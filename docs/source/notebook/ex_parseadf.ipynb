{
 "cells": [
  {
   "cell_type": "markdown",
   "id": "60e3a6c5-8406-4f8c-ba47-5fdf56122a79",
   "metadata": {},
   "source": [
    "# Parse ADF File"
   ]
  },
  {
   "cell_type": "code",
   "execution_count": 1,
   "id": "a4221547-aa60-4f91-9646-5627d4f73c07",
   "metadata": {},
   "outputs": [],
   "source": [
    "from magellantools import ARCDR\n",
    "import pprint"
   ]
  },
  {
   "cell_type": "markdown",
   "id": "2d77d679-58bf-4d69-8214-25c863e5b0dc",
   "metadata": {},
   "source": [
    "## Download example ADF file and label"
   ]
  },
  {
   "cell_type": "code",
   "execution_count": 2,
   "id": "f2ebc934-4ec2-4441-8a1d-c1357cc81c50",
   "metadata": {},
   "outputs": [
    {
     "name": "stdout",
     "output_type": "stream",
     "text": [
      "--2023-05-12 11:35:00--  https://pds-geosciences.wustl.edu/mgn/mgn-v-rdrs-5-cdr-alt-rad-v1/mg_2008/17611780/adf01761.lbl\n",
      "Resolving pds-geosciences.wustl.edu (pds-geosciences.wustl.edu)... 128.252.144.141\n",
      "Connecting to pds-geosciences.wustl.edu (pds-geosciences.wustl.edu)|128.252.144.141|:443... connected.\n",
      "HTTP request sent, awaiting response... 200 OK\n",
      "Length: 2800 (2.7K) [text/plain]\n",
      "Saving to: ‘adf01761.lbl’\n",
      "\n",
      "adf01761.lbl        100%[===================>]   2.73K  --.-KB/s    in 0s      \n",
      "\n",
      "2023-05-12 11:35:05 (1.24 GB/s) - ‘adf01761.lbl’ saved [2800/2800]\n",
      "\n",
      "--2023-05-12 11:35:05--  https://pds-geosciences.wustl.edu/mgn/mgn-v-rdrs-5-cdr-alt-rad-v1/mg_2008/17611780/adf01761.1\n",
      "Resolving pds-geosciences.wustl.edu (pds-geosciences.wustl.edu)... 128.252.144.141\n",
      "Connecting to pds-geosciences.wustl.edu (pds-geosciences.wustl.edu)|128.252.144.141|:443... connected.\n",
      "HTTP request sent, awaiting response... 200 OK\n",
      "Length: 1657500 (1.6M) [application/octet-stream]\n",
      "Saving to: ‘adf01761.1’\n",
      "\n",
      "adf01761.1          100%[===================>]   1.58M   172KB/s    in 9.4s    \n",
      "\n",
      "2023-05-12 11:35:16 (172 KB/s) - ‘adf01761.1’ saved [1657500/1657500]\n",
      "\n"
     ]
    }
   ],
   "source": [
    "!wget https://pds-geosciences.wustl.edu/mgn/mgn-v-rdrs-5-cdr-alt-rad-v1/mg_2008/17611780/adf01761.lbl\n",
    "!wget https://pds-geosciences.wustl.edu/mgn/mgn-v-rdrs-5-cdr-alt-rad-v1/mg_2008/17611780/adf01761.1"
   ]
  },
  {
   "cell_type": "markdown",
   "id": "23738bc5-0a79-4cc1-bb81-e0c652b89d2c",
   "metadata": {},
   "source": [
    "## Open with magellantools"
   ]
  },
  {
   "cell_type": "code",
   "execution_count": 4,
   "id": "91aaf71f-4897-4817-9d6e-2399a4d957c0",
   "metadata": {},
   "outputs": [],
   "source": [
    "hdr, adf = ARCDR.readARCDR(\"./adf01761.lbl\")"
   ]
  },
  {
   "cell_type": "markdown",
   "id": "e5e20606-6e51-4b8a-996c-b31f00fefd8c",
   "metadata": {},
   "source": [
    "## Examine output"
   ]
  },
  {
   "cell_type": "code",
   "execution_count": 5,
   "id": "10f8e055-1736-4960-8e17-ec02ce1e6f28",
   "metadata": {},
   "outputs": [
    {
     "name": "stdout",
     "output_type": "stream",
     "text": [
      "{'CCSD1R00000300000074DELIMITER': 'SMARKER',\n",
      " 'CCSD1Z00000100000480NJPL1K00KL0000000366PRODUCT_FILE_NAME': 'ADF01761.1',\n",
      " 'DATA_FORMAT_TYPE': 'VAX ',\n",
      " 'HARDWARE_VERSION_ID': '01',\n",
      " 'MISSION_ID': '4',\n",
      " 'MISSION_NAME': 'MAGELLAN',\n",
      " 'NAV_UNIQUE_ID': '\"ID ',\n",
      " 'ORBIT_NUMBER': '01761',\n",
      " 'PROCESS_TIME': '1991-08-30T08:25:58.000',\n",
      " 'PRODUCT_NAME': 'ALTIMETRY_DATA_RECORD',\n",
      " 'PRODUCT_TYPE': 'ALTIMETRY_FILE',\n",
      " 'SOFTWARE_VERSION_ID': '02',\n",
      " 'SPACECRAFT_ID': '18',\n",
      " 'SPACECRAFT_NAME': 'MAGELLAN',\n",
      " 'TEMPLATE_VERSION_NUMBER': '02',\n",
      " 'TYPE': 'NJPL1I000177',\n",
      " 'UPLOAD_ID': 'M1079Q'}\n"
     ]
    }
   ],
   "source": [
    "pprint.pprint(hdr)"
   ]
  },
  {
   "cell_type": "code",
   "execution_count": 7,
   "id": "edff216e-7588-4b12-8b71-b3a8156965f5",
   "metadata": {},
   "outputs": [
    {
     "name": "stdout",
     "output_type": "stream",
     "text": [
      "('SFDU_LABEL_AND_LENGTH',\n",
      " 'FOOTPRINT_NUMBER',\n",
      " 'ALT_FLAG_GROUP',\n",
      " 'ALT_FLAG2_GROUP',\n",
      " 'ALTIMETRY_FOOTPRINT_TDB_TIME',\n",
      " 'ALT_SPACECRAFT_POSITION_VECTOR',\n",
      " 'ALT_SPACECRAFT_VELOCITY_VECTOR',\n",
      " 'ALT_FOOTPRINT_LONGITUDE',\n",
      " 'ALT_FOOTPRINT_LATITUDE',\n",
      " 'ALT_ALONG_TRACK_FOOTPRINT_SIZE',\n",
      " 'ALT_CROSS_TRACK_FOOTPRINT_SIZE',\n",
      " 'RECEIVER_NOISE_CALIBRATION',\n",
      " 'UNCORRECTED_DISTANCE_TO_NADIR',\n",
      " 'ATMOS_CORRECTION_TO_DISTANCE',\n",
      " 'DERIVED_PLANETARY_RADIUS',\n",
      " 'RADAR_DERIVED_SURF_ROUGHNESS',\n",
      " 'DERIVED_FRESNEL_REFLECTIVITY',\n",
      " 'DERIVED_FRESNEL_REFLECT_CORR',\n",
      " 'FORMAL_ERRORS_GROUP',\n",
      " 'FORMAL_CORRELATIONS_GROUP',\n",
      " 'EPHEMERIS_RADIUS_CORRECTION',\n",
      " 'EPHEMERIS_LONGITUDE_CORRECTION',\n",
      " 'EPHEMERIS_LATITUDE_CORRECTION',\n",
      " 'ALT_PARTIALS_GROUP',\n",
      " 'NON_RANGE_SHARP_FIT',\n",
      " 'SCALING_FACTOR',\n",
      " 'NON_RANGE_SHARP_LOOKS',\n",
      " 'NON_RANGE_PROF_CORRS_INDEX',\n",
      " 'NON_RANGE_SHARP_ECHO_PROF',\n",
      " 'BEST_NON_RANGE_SHARP_MODEL_TPT',\n",
      " 'RANGE_SHARP_FIT',\n",
      " 'RANGE_SHARP_SCALING_FACTOR',\n",
      " 'RANGE_SHARP_LOOKS',\n",
      " 'RANGE_SHARP_PROF_CORRS_INDEX',\n",
      " 'RANGE_SHARP_ECHO_PROFILE',\n",
      " 'BEST_RANGE_SHARP_MODEL_TMPLT',\n",
      " 'MULT_PEAK_FRESNEL_REFLECT_CORR',\n",
      " 'DERIVED_PLANETARY_THRESH_RADI',\n",
      " 'SIGNAL_QUALITY_INDICATOR',\n",
      " 'DERIVED_THRESH_DETECTOR_INDEX',\n",
      " 'SPARE')\n"
     ]
    }
   ],
   "source": [
    "pprint.pprint(adf.dtype.names)"
   ]
  }
 ],
 "metadata": {
  "kernelspec": {
   "display_name": "Python 3 (ipykernel)",
   "language": "python",
   "name": "python3"
  },
  "language_info": {
   "codemirror_mode": {
    "name": "ipython",
    "version": 3
   },
   "file_extension": ".py",
   "mimetype": "text/x-python",
   "name": "python",
   "nbconvert_exporter": "python",
   "pygments_lexer": "ipython3",
   "version": "3.10.9"
  }
 },
 "nbformat": 4,
 "nbformat_minor": 5
}
