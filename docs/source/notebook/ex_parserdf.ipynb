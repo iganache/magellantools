{
 "cells": [
  {
   "cell_type": "markdown",
   "id": "60e3a6c5-8406-4f8c-ba47-5fdf56122a79",
   "metadata": {},
   "source": [
    "# Parse RDF File"
   ]
  },
  {
   "cell_type": "code",
   "execution_count": 32,
   "id": "a4221547-aa60-4f91-9646-5627d4f73c07",
   "metadata": {},
   "outputs": [],
   "source": [
    "from magellantools import ARCDR\n",
    "import pprint"
   ]
  },
  {
   "cell_type": "markdown",
   "id": "2d77d679-58bf-4d69-8214-25c863e5b0dc",
   "metadata": {},
   "source": [
    "## Download example RDF file and label"
   ]
  },
  {
   "cell_type": "code",
   "execution_count": 3,
   "id": "f2ebc934-4ec2-4441-8a1d-c1357cc81c50",
   "metadata": {},
   "outputs": [
    {
     "name": "stdout",
     "output_type": "stream",
     "text": [
      "--2023-05-12 11:08:22--  https://pds-geosciences.wustl.edu/mgn/mgn-v-rdrs-5-cdr-alt-rad-v1/mg_2008/17611780/rdf01761.lbl\n",
      "Resolving pds-geosciences.wustl.edu (pds-geosciences.wustl.edu)... 128.252.144.141\n",
      "Connecting to pds-geosciences.wustl.edu (pds-geosciences.wustl.edu)|128.252.144.141|:443... connected.\n",
      "HTTP request sent, awaiting response... 200 OK\n",
      "Length: 2800 (2.7K) [text/plain]\n",
      "Saving to: ‘rdf01761.lbl’\n",
      "\n",
      "rdf01761.lbl        100%[===================>]   2.73K  --.-KB/s    in 0s      \n",
      "\n",
      "2023-05-12 11:08:22 (333 MB/s) - ‘rdf01761.lbl’ saved [2800/2800]\n",
      "\n",
      "--2023-05-12 11:08:22--  https://pds-geosciences.wustl.edu/mgn/mgn-v-rdrs-5-cdr-alt-rad-v1/mg_2008/17611780/rdf01761.1\n",
      "Resolving pds-geosciences.wustl.edu (pds-geosciences.wustl.edu)... 128.252.144.141\n",
      "Connecting to pds-geosciences.wustl.edu (pds-geosciences.wustl.edu)|128.252.144.141|:443... connected.\n",
      "HTTP request sent, awaiting response... 200 OK\n",
      "Length: 682500 (667K) [application/octet-stream]\n",
      "Saving to: ‘rdf01761.1’\n",
      "\n",
      "rdf01761.1          100%[===================>] 666.50K  1.05MB/s    in 0.6s    \n",
      "\n",
      "2023-05-12 11:08:23 (1.05 MB/s) - ‘rdf01761.1’ saved [682500/682500]\n",
      "\n"
     ]
    }
   ],
   "source": [
    "!wget https://pds-geosciences.wustl.edu/mgn/mgn-v-rdrs-5-cdr-alt-rad-v1/mg_2008/17611780/rdf01761.lbl\n",
    "!wget https://pds-geosciences.wustl.edu/mgn/mgn-v-rdrs-5-cdr-alt-rad-v1/mg_2008/17611780/rdf01761.1"
   ]
  },
  {
   "cell_type": "markdown",
   "id": "23738bc5-0a79-4cc1-bb81-e0c652b89d2c",
   "metadata": {},
   "source": [
    "## Open with magellantools"
   ]
  },
  {
   "cell_type": "code",
   "execution_count": 17,
   "id": "91aaf71f-4897-4817-9d6e-2399a4d957c0",
   "metadata": {},
   "outputs": [],
   "source": [
    "hdr, rdf = ARCDR.readARCDR(\"./rdf01761.lbl\")"
   ]
  },
  {
   "cell_type": "markdown",
   "id": "e5e20606-6e51-4b8a-996c-b31f00fefd8c",
   "metadata": {},
   "source": [
    "## Examine output"
   ]
  },
  {
   "cell_type": "code",
   "execution_count": 22,
   "id": "10f8e055-1736-4960-8e17-ec02ce1e6f28",
   "metadata": {},
   "outputs": [
    {
     "name": "stdout",
     "output_type": "stream",
     "text": [
      "{'CCSD1R00000300000076DELIMITER': 'SMARKER',\n",
      " 'CCSD1Z00000100000454NJPL1K00KL0000000338PRODUCT_FILE_NAME': 'RDF01761.1',\n",
      " 'DATA_FORMAT_TYPE': 'VAX ',\n",
      " 'HARDWARE_VERSION_ID': '01',\n",
      " 'MISSION_ID': '4',\n",
      " 'MISSION_NAME': 'MAGELLAN',\n",
      " 'NAV_UNIQUE_ID': '\"ID ',\n",
      " 'ORBIT_NUMBER': '01761',\n",
      " 'PROCESS_TIME': '1991-08-29T17:00:05.000',\n",
      " 'PRODUCT_NAME': 'RADIOMETRY_DATA_RECORD',\n",
      " 'PRODUCT_TYPE': 'RADIOMETRY_FILE',\n",
      " 'SOFTWARE_VERSION_ID': '02',\n",
      " 'SPACECRAFT_ID': '18',\n",
      " 'SPACECRAFT_NAME': 'MAGELLAN',\n",
      " 'TYPE': 'NJPL1I000177 ',\n",
      " 'UPLOAD_ID': 'M1079Q'}\n"
     ]
    }
   ],
   "source": [
    "pprint.pprint(hdr)"
   ]
  },
  {
   "cell_type": "code",
   "execution_count": 31,
   "id": "edff216e-7588-4b12-8b71-b3a8156965f5",
   "metadata": {},
   "outputs": [
    {
     "name": "stdout",
     "output_type": "stream",
     "text": [
      "('SFDU_LABEL_AND_LENGTH',\n",
      " 'RAD_NUMBER',\n",
      " 'RAD_FLAG_GROUP',\n",
      " 'RAD_FLAG2_GROUP',\n",
      " 'RAD_SPACECRAFT_EPOCH_TDB_TIME',\n",
      " 'RAD_SPACECRAFT_POSITION_VECTOR',\n",
      " 'RAD_SPACECRAFT_VELOCITY_VECTOR',\n",
      " 'RAD_FOOTPRINT_LONGITUDE',\n",
      " 'RAD_FOOTPRINT_LATITUDE',\n",
      " 'RAD_ALONG_TRACK_FOOTPRINT_SIZE',\n",
      " 'RAD_CROSS_TRACK_FOOTPRINT_SIZE',\n",
      " 'SAR_FOOTPRINT_SIZE',\n",
      " 'SAR_AVERAGE_BACKSCATTER',\n",
      " 'INCIDENCE_ANGLE',\n",
      " 'BRIGHTNESS_TEMPERATURE',\n",
      " 'AVERAGE_PLANETARY_RADIUS',\n",
      " 'PLANET_READING_SYSTEM_TEMP',\n",
      " 'ASSUMED_WARM_SKY_TEMPERATURE',\n",
      " 'RAD_RECEIVER_SYSTEM_TEMP',\n",
      " 'SURFACE_EMISSION_TEMPERATURE',\n",
      " 'SURFACE_EMISSIVITY',\n",
      " 'RAD_PARTIALS_GROUP',\n",
      " 'RAD_EMISSIVITY_PARTIAL',\n",
      " 'SURFACE_TEMPERATURE',\n",
      " 'RAW_RAD_ANTENNA_POWER',\n",
      " 'RAW_RAD_LOAD_POWER',\n",
      " 'ALT_SKIP_FACTOR',\n",
      " 'ALT_GAIN_FACTOR',\n",
      " 'ALT_COARSE_RESOLUTION',\n",
      " 'SPARE')\n"
     ]
    }
   ],
   "source": [
    "pprint.pprint(rdf.dtype.names)"
   ]
  }
 ],
 "metadata": {
  "kernelspec": {
   "display_name": "Python 3 (ipykernel)",
   "language": "python",
   "name": "python3"
  },
  "language_info": {
   "codemirror_mode": {
    "name": "ipython",
    "version": 3
   },
   "file_extension": ".py",
   "mimetype": "text/x-python",
   "name": "python",
   "nbconvert_exporter": "python",
   "pygments_lexer": "ipython3",
   "version": "3.10.9"
  }
 },
 "nbformat": 4,
 "nbformat_minor": 5
}
