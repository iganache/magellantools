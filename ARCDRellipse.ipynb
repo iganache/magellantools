{
 "cells": [
  {
   "cell_type": "code",
   "execution_count": 3,
   "metadata": {},
   "outputs": [],
   "source": [
    "from ARCDR import readARCDR\n",
    "import matplotlib.pyplot as plt\n",
    "import numpy as np\n",
    "from pyproj import CRS\n",
    "from pyproj import Transformer\n",
    "import rasterio"
   ]
  },
  {
   "cell_type": "code",
   "execution_count": 2,
   "metadata": {},
   "outputs": [
    {
     "name": "stdout",
     "output_type": "stream",
     "text": [
      "/home/indujaa/Projects/magellantools/adf01467.2\n",
      "parsing adf\n",
      "hdr bytes =  501\n"
     ]
    }
   ],
   "source": [
    "hdr, adf = readARCDR(\"/home/indujaa/Projects/magellantools/adf01467.lbl\")"
   ]
  },
  {
   "cell_type": "code",
   "execution_count": 10,
   "metadata": {},
   "outputs": [],
   "source": [
    "arr = np.zeros((2,len(adf))).astype(np.float32)"
   ]
  },
  {
   "cell_type": "code",
   "execution_count": 11,
   "metadata": {},
   "outputs": [],
   "source": [
    "## projection from geographic to cartesian\n",
    "geo_crs = CRS.from_proj4(\"+proj=longlat +a=6051800 +b=6051800 +no_defs \")\n",
    "proj_crs = CRS.from_proj4(\"+proj=eqc +lat_ts=0 +lat_0=0 +lon_0=0 +x_0=0 +y_0=0 +a=6051800 +b=6051800 +units=m +no_defs\")\n",
    "proj = Transformer.from_crs(geo_crs, proj_crs)"
   ]
  },
  {
   "cell_type": "code",
   "execution_count": 12,
   "metadata": {},
   "outputs": [],
   "source": [
    "for i in range(len(adf)):\n",
    "    arr[:,i] = proj.transform(adf[i][\"ALT_FOOTPRINT_LONGITUDE\"], adf[i][\"ALT_FOOTPRINT_LATITUDE\"])"
   ]
  },
  {
   "cell_type": "code",
   "execution_count": 16,
   "metadata": {},
   "outputs": [],
   "source": [
    "np.savetxt(\"test.csv\", arr.T)"
   ]
  },
  {
   "cell_type": "code",
   "execution_count": 8,
   "metadata": {},
   "outputs": [
    {
     "name": "stdout",
     "output_type": "stream",
     "text": [
      "(-18779196.266915087, 5779422.137011182)\n",
      "(0.0, 0.0)\n"
     ]
    }
   ],
   "source": [
    "print(proj.transform(adf[0][\"ALT_FOOTPRINT_LONGITUDE\"], adf[0][\"ALT_FOOTPRINT_LATITUDE\"]))\n",
    "print(proj.transform(0, 0))"
   ]
  },
  {
   "cell_type": "code",
   "execution_count": null,
   "metadata": {},
   "outputs": [],
   "source": [
    "print(np.diff(adf[\"ALT_FOOTPRINT_LONGITUDE\"]))\n",
    "print(np.gradient(adf[\"ALT_FOOTPRINT_LONGITUDE\"]))\n",
    "for i in range(len(adf)):\n",
    "    print(adf[i][\"ALT_FOOTPRINT_LONGITUDE\"]) #, adf[i][\"ALT_FOOTPRINT_LATITUDE\"])"
   ]
  },
  {
   "cell_type": "code",
   "execution_count": null,
   "metadata": {},
   "outputs": [],
   "source": []
  }
 ],
 "metadata": {
  "kernelspec": {
   "display_name": "py36",
   "language": "python",
   "name": "py36"
  },
  "language_info": {
   "codemirror_mode": {
    "name": "ipython",
    "version": 3
   },
   "file_extension": ".py",
   "mimetype": "text/x-python",
   "name": "python",
   "nbconvert_exporter": "python",
   "pygments_lexer": "ipython3",
   "version": "3.6.11"
  }
 },
 "nbformat": 4,
 "nbformat_minor": 4
}
