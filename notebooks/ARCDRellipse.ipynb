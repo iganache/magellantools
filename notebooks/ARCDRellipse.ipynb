{
 "cells": [
  {
   "cell_type": "code",
   "execution_count": 1,
   "metadata": {},
   "outputs": [],
   "source": [
    "from ARCDR import readARCDR\n",
    "import matplotlib.pyplot as plt\n",
    "import numpy as np\n",
    "from pyproj import CRS\n",
    "from pyproj import Transformer\n",
    "import rasterio\n",
    "from osgeo import gdal"
   ]
  },
  {
   "cell_type": "code",
   "execution_count": 2,
   "metadata": {},
   "outputs": [
    {
     "name": "stdout",
     "output_type": "stream",
     "text": [
      "./adf01467.2\n",
      "parsing adf\n",
      "hdr bytes =  501\n"
     ]
    }
   ],
   "source": [
    "hdr, adf = readARCDR(\"./adf01467.lbl\")"
   ]
  },
  {
   "cell_type": "markdown",
   "metadata": {},
   "source": [
    "### <b> Transformation from geographic to projected coordinate system to match the CRS of the Magellan gridded SAR backscatter data </b>"
   ]
  },
  {
   "cell_type": "code",
   "execution_count": 3,
   "metadata": {},
   "outputs": [],
   "source": [
    "arr = np.zeros((len(adf), 2)).astype(np.float32)\n",
    "## projection from geographic to cartesian\n",
    "geo_crs = CRS.from_proj4(\"+proj=longlat +a=6051800 +b=6051800 +no_defs \")\n",
    "proj_crs = CRS.from_proj4(\"+proj=eqc +lat_ts=0 +lat_0=0 +lon_0=0 +x_0=0 +y_0=0 +a=6051800 +b=6051800 +units=m +no_defs\")\n",
    "proj = Transformer.from_crs(geo_crs, proj_crs)"
   ]
  },
  {
   "cell_type": "code",
   "execution_count": 7,
   "metadata": {},
   "outputs": [
    {
     "name": "stdout",
     "output_type": "stream",
     "text": [
      "[[-18779196.    5779422. ]\n",
      " [-18777638.    5773036.5]\n",
      " [-18776086.    5766665. ]\n",
      " ...\n",
      " [        inf         inf]\n",
      " [        inf         inf]\n",
      " [        inf         inf]]\n",
      "[[ 1558.   -6385.5 ]\n",
      " [ 1555.   -6378.5 ]\n",
      " [ 1547.   -6365.25]\n",
      " ...\n",
      " [     nan      nan]\n",
      " [     nan      nan]\n",
      " [     nan      nan]]\n",
      "[-76.288284 -76.29924  -76.33977  ...        nan        nan        nan]\n"
     ]
    },
    {
     "name": "stderr",
     "output_type": "stream",
     "text": [
      "/tmp/ipykernel_46295/4049425347.py:6: RuntimeWarning: invalid value encountered in divide\n",
      "  theta = np.rad2deg(np.arctan(diff_arr[:,1]/diff_arr[:,0]))\n"
     ]
    }
   ],
   "source": [
    "for i in range(len(adf)):\n",
    "    arr[i, :] = proj.transform(adf[i][\"ALT_FOOTPRINT_LONGITUDE\"], adf[i][\"ALT_FOOTPRINT_LATITUDE\"])\n",
    "print(arr)\n",
    "diff_arr = np.gradient(arr, axis = 0)\n",
    "print(diff_arr)\n",
    "theta = np.rad2deg(np.arctan(diff_arr[:,1]/diff_arr[:,0]))\n",
    "print(theta)"
   ]
  },
  {
   "cell_type": "code",
   "execution_count": 5,
   "metadata": {},
   "outputs": [],
   "source": [
    "ds = rasterio.open(\"/home/iganesh/Venus_Magellan_LeftLook_mosaic_global_225m.tif\")\n",
    "SAR_DN = ds.read(1)\n",
    "ds.close()"
   ]
  },
  {
   "cell_type": "code",
   "execution_count": 8,
   "metadata": {},
   "outputs": [
    {
     "data": {
      "text/plain": [
       "(2, 1574)"
      ]
     },
     "execution_count": 8,
     "metadata": {},
     "output_type": "execute_result"
    }
   ],
   "source": [
    "for i in range(2) #(arr.shape[1]):\n",
    "    x0 = arr[0,i]\n",
    "    y0 = arr[0,i]\n",
    "    a = ysize*1000/2\n",
    "    b = xsize*1000/2\n",
    "    ymin = y0 - 2*a\n",
    "    ymax = y0 - 2*a\n",
    "    xmin = x0 - 2*a\n",
    "    xmax = x0 - 2*a\n",
    "    gdal.Warp(destNameOrDestDS = \"/home/iganesh/temp.tif\", \n",
    "          srcDSOrSrcDSTab  = \"/home/iganesh/Venus_Magellan_LeftLook_mosaic_global_225m.tif\",\n",
    "          outputBounds     = (xmin, xmax, ymin, ymax),\n",
    "          cropToCutline    = True,\n",
    "          copyMetadata     = True)\n",
    "    A = np.deg2rad(90+theta)"
   ]
  },
  {
   "cell_type": "code",
   "execution_count": 8,
   "metadata": {},
   "outputs": [
    {
     "name": "stdout",
     "output_type": "stream",
     "text": [
      "(-18779196.266915087, 5779422.137011182)\n",
      "(0.0, 0.0)\n"
     ]
    }
   ],
   "source": [
    "print(proj.transform(adf[0][\"ALT_FOOTPRINT_LONGITUDE\"], adf[0][\"ALT_FOOTPRINT_LATITUDE\"]))\n",
    "print(proj.transform(0, 0))"
   ]
  },
  {
   "cell_type": "code",
   "execution_count": null,
   "metadata": {},
   "outputs": [],
   "source": [
    "print(np.diff(adf[\"ALT_FOOTPRINT_LONGITUDE\"]))\n",
    "print(np.gradient(adf[\"ALT_FOOTPRINT_LONGITUDE\"]))\n",
    "for i in range(len(adf)):\n",
    "    arr[:,i] = proj.transform(adf[i][\"ALT_FOOTPRINT_LONGITUDE\"], adf[i][\"ALT_FOOTPRINT_LATITUDE\"])\n",
    "    x, y = print(adf[i][\"ALT_FOOTPRINT_LONGITUDE\"]) #, adf[i][\"ALT_FOOTPRINT_LATITUDE\"])"
   ]
  },
  {
   "cell_type": "code",
   "execution_count": null,
   "metadata": {},
   "outputs": [],
   "source": []
  }
 ],
 "metadata": {
  "kernelspec": {
   "display_name": "Python 3 (ipykernel)",
   "language": "python",
   "name": "python3"
  },
  "language_info": {
   "codemirror_mode": {
    "name": "ipython",
    "version": 3
   },
   "file_extension": ".py",
   "mimetype": "text/x-python",
   "name": "python",
   "nbconvert_exporter": "python",
   "pygments_lexer": "ipython3",
   "version": "3.9.13"
  }
 },
 "nbformat": 4,
 "nbformat_minor": 4
}
