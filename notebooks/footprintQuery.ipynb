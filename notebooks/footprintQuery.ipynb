{
 "cells": [
  {
   "cell_type": "markdown",
   "id": "3db74e16-1c4f-4ff3-82e2-364e7a15acf9",
   "metadata": {},
   "source": [
    "# Function to extract raster data in ellipsoidal footprint"
   ]
  },
  {
   "cell_type": "code",
   "execution_count": null,
   "id": "dd344ec5-76fb-44a3-a0ce-0ec124bf8ec6",
   "metadata": {},
   "outputs": [],
   "source": [
    "import rasterio as rio"
   ]
  },
  {
   "cell_type": "code",
   "execution_count": null,
   "id": "6bcfc802-5875-4c76-b956-983ecf3c2d05",
   "metadata": {},
   "outputs": [],
   "source": [
    "def ellipseFoot(x: float, y: float, theta: float, semimaj: float, semimin: float, dem: rio.io.DatasetReader) -> float:\n",
    "    \"\"\"Extract a mean value from a raster using an ellipsoidal footprint.\n",
    "\n",
    "    Args:\n",
    "        x: Center of ellipse x coordinate (in DEM crs)\n",
    "        y: Center of ellipse y coordinate (in DEM crs)\n",
    "        theta: Azimuth of ellipse semimajor axis w.r.t. DEM grid north\n",
    "        semimaj: semimajor axis length of ellipse\n",
    "        semimin: semiminor axis length of ellipse\n",
    "        dem: DEM to read from\n",
    "\n",
    "    Returns:\n",
    "        Mean value of the raster in the footprint.\n",
    "    \"\"\"\n",
    "    \n",
    "    "
   ]
  }
 ],
 "metadata": {
  "kernelspec": {
   "display_name": "Python 3 (ipykernel)",
   "language": "python",
   "name": "python3"
  },
  "language_info": {
   "codemirror_mode": {
    "name": "ipython",
    "version": 3
   },
   "file_extension": ".py",
   "mimetype": "text/x-python",
   "name": "python",
   "nbconvert_exporter": "python",
   "pygments_lexer": "ipython3",
   "version": "3.9.13"
  }
 },
 "nbformat": 4,
 "nbformat_minor": 5
}
