{
 "cells": [
  {
   "cell_type": "markdown",
   "id": "b3d70dda-5900-4c85-baa8-64bdf21c0a4b",
   "metadata": {},
   "source": [
    "# How to parse bit-fields? I'd use bit masks"
   ]
  },
  {
   "cell_type": "code",
   "execution_count": 16,
   "id": "03775e94-c743-47ce-9855-5640ccc1a271",
   "metadata": {},
   "outputs": [
    {
     "name": "stdout",
     "output_type": "stream",
     "text": [
      "4\n"
     ]
    }
   ],
   "source": [
    "import numpy as np\n",
    "a = np.array([5], dtype=np.uint8) # we want to control the data types for this example, so using number\n",
    "# Which bits are active in a[0]?\n",
    "\n",
    "FLAG1 = a[0] & 0x01 # 0x01 is hexadecimal (that is what 0x will do in Python), basically I'm manually specifying this number 0000 0001 and and-ing it with a[0]\n",
    "# if it is 1 the bit is set, if it is 0 the bit is not set. \n",
    "\n",
    "# How to check the next bit?\n",
    "FLAG2 = (a[0] & 0x04) # 0000 0010 ( 00000101 & 00000100 = 00000100 we want out... 00000001 if the flag is there, so we shift the bits of the result to the right with >>)\n",
    "print(FLAG2)"
   ]
  },
  {
   "cell_type": "markdown",
   "id": "c515f18c-9c04-410c-a782-341cddc37034",
   "metadata": {},
   "source": [
    "# A more concise way to do this?"
   ]
  },
  {
   "cell_type": "code",
   "execution_count": 23,
   "id": "60dfba83-3a60-40c9-ae19-73de6d5dceed",
   "metadata": {},
   "outputs": [
    {
     "name": "stdout",
     "output_type": "stream",
     "text": [
      "[  1.   0.   4.   0.   0.  32.   0. 128.   0.   0.   0.   0.   0.   0.\n",
      "   0.   0.   0.   0.   0.   0.   0.   0.   0.   0.   0.   0.   0.   0.\n",
      "   0.   0.   0.   0.]\n"
     ]
    }
   ],
   "source": [
    "b = np.array([1 + 4 + 32 + 128], dtype=np.uint32) # dummy data - this is what you'd get from the file\n",
    "flags = np.zeros(32) # hold which flags in b are set\n",
    "\n",
    "for i in range(32):\n",
    "    mask = 2**i # mask\n",
    "    flags[i] = (b[0] & mask)\n",
    "    \n",
    "print(flags)"
   ]
  },
  {
   "cell_type": "code",
   "execution_count": 22,
   "id": "1ef7048b-2237-4ef7-b0e5-181867174d70",
   "metadata": {},
   "outputs": [
    {
     "data": {
      "text/plain": [
       "array(['flag1', 'flag8', 'flag128'], dtype='<U7')"
      ]
     },
     "execution_count": 22,
     "metadata": {},
     "output_type": "execute_result"
    }
   ],
   "source": [
    "flags = np.array([1, 0, 0, 1, 0, 0, 0, 1], dtype=bool)\n",
    "flagnames = np.array([\"flag1\", \"flag2\", \"flag4\", \"flag8\", \"flag16\", \"flag32\", \"flag64\", \"flag128\"])\n",
    "\n",
    "flagnames[flags] # will give you the flags that are set "
   ]
  },
  {
   "cell_type": "code",
   "execution_count": 24,
   "id": "a77bf769-59a5-43eb-8449-20697d2a81d6",
   "metadata": {},
   "outputs": [
    {
     "ename": "SyntaxError",
     "evalue": "invalid syntax (2046090055.py, line 1)",
     "output_type": "error",
     "traceback": [
      "\u001b[0;36m  Cell \u001b[0;32mIn [24], line 1\u001b[0;36m\u001b[0m\n\u001b[0;31m    if(flagfield & 4)\u001b[0m\n\u001b[0m                     ^\u001b[0m\n\u001b[0;31mSyntaxError\u001b[0m\u001b[0;31m:\u001b[0m invalid syntax\n"
     ]
    }
   ],
   "source": [
    "if(flagfield & 4)"
   ]
  },
  {
   "cell_type": "code",
   "execution_count": null,
   "id": "ca679391-c66e-43a1-9ea3-1eccae1212c9",
   "metadata": {},
   "outputs": [],
   "source": [
    "0 0 0 0 0 1 0 0\n",
    "1 1 1 1 1 1 1 1\n",
    "0 0 0 0 0 1 0 0 "
   ]
  }
 ],
 "metadata": {
  "kernelspec": {
   "display_name": "Python 3 (ipykernel)",
   "language": "python",
   "name": "python3"
  },
  "language_info": {
   "codemirror_mode": {
    "name": "ipython",
    "version": 3
   },
   "file_extension": ".py",
   "mimetype": "text/x-python",
   "name": "python",
   "nbconvert_exporter": "python",
   "pygments_lexer": "ipython3",
   "version": "3.9.13"
  }
 },
 "nbformat": 4,
 "nbformat_minor": 5
}
