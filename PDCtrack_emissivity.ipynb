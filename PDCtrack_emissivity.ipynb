{
 "cells": [
  {
   "cell_type": "code",
   "execution_count": 5,
   "metadata": {},
   "outputs": [],
   "source": [
    "from ARCDR import readARCDR\n",
    "import matplotlib.pyplot as plt\n",
    "import numpy as np\n",
    "import pandas as pd\n",
    "\n",
    "import os\n",
    "import glob\n",
    "from pathlib import Path"
   ]
  },
  {
   "cell_type": "markdown",
   "metadata": {},
   "source": [
    "Latitude ranges \n",
    "Dione Regio: -30 to -40\n",
    "Central Esitla: 10.5 to 16.5\n",
    "Eastern Eistla: 12 - 17.5"
   ]
  },
  {
   "cell_type": "code",
   "execution_count": 6,
   "metadata": {},
   "outputs": [],
   "source": [
    "files = glob.glob(\"pds-geosciences-wustl-edu/**/*.lbl\", recursive = True)\n",
    "\n",
    "df = pd.DataFrame(columns = [\"orbit\", \"footprint\", \"lat\", \"lon\", \"emissivity\"])\n",
    "# for dirpath, dirs, files in os.walk(\"pds-geosciences.wustl.edu\"): \n",
    "#     for filename in files:\n",
    "#         fname = os.path.join(dirpath,filename)\n",
    "#         print(fname)"
   ]
  },
  {
   "cell_type": "code",
   "execution_count": 7,
   "metadata": {},
   "outputs": [
    {
     "name": "stdout",
     "output_type": "stream",
     "text": [
      "/home/indujaa/magellantools/pds-geosciences-wustl-edu/mgn/mgn-v-rdrs-5-cdr-alt-rad-v1/mg_2010/24812500/rdf02500.1\n",
      "parsing rdf\n",
      "/home/indujaa/magellantools/pds-geosciences-wustl-edu/mgn/mgn-v-rdrs-5-cdr-alt-rad-v1/mg_2010/24812500/rdf02498.1\n",
      "parsing rdf\n",
      "/home/indujaa/magellantools/pds-geosciences-wustl-edu/mgn/mgn-v-rdrs-5-cdr-alt-rad-v1/mg_2010/24812500/rdf02496.1\n",
      "parsing rdf\n",
      "/home/indujaa/magellantools/pds-geosciences-wustl-edu/mgn/mgn-v-rdrs-5-cdr-alt-rad-v1/mg_2010/24812500/rdf02491.1\n",
      "parsing rdf\n",
      "/home/indujaa/magellantools/pds-geosciences-wustl-edu/mgn/mgn-v-rdrs-5-cdr-alt-rad-v1/mg_2010/24812500/rdf02490.1\n",
      "parsing rdf\n",
      "/home/indujaa/magellantools/pds-geosciences-wustl-edu/mgn/mgn-v-rdrs-5-cdr-alt-rad-v1/mg_2010/24812500/rdf02497.1\n",
      "parsing rdf\n",
      "/home/indujaa/magellantools/pds-geosciences-wustl-edu/mgn/mgn-v-rdrs-5-cdr-alt-rad-v1/mg_2010/24812500/rdf02499.1\n",
      "parsing rdf\n",
      "/home/indujaa/magellantools/pds-geosciences-wustl-edu/mgn/mgn-v-rdrs-5-cdr-alt-rad-v1/mg_2010/24812500/rdf02494.1\n",
      "parsing rdf\n",
      "/home/indujaa/magellantools/pds-geosciences-wustl-edu/mgn/mgn-v-rdrs-5-cdr-alt-rad-v1/mg_2010/24812500/rdf02493.1\n",
      "parsing rdf\n",
      "/home/indujaa/magellantools/pds-geosciences-wustl-edu/mgn/mgn-v-rdrs-5-cdr-alt-rad-v1/mg_2010/24812500/rdf02492.1\n",
      "parsing rdf\n",
      "/home/indujaa/magellantools/pds-geosciences-wustl-edu/mgn/mgn-v-rdrs-5-cdr-alt-rad-v1/mg_2010/24812500/rdf02495.1\n",
      "parsing rdf\n",
      "/home/indujaa/magellantools/pds-geosciences-wustl-edu/mgn/mgn-v-rdrs-5-cdr-alt-rad-v1/mg_2016/42814300/rdf04294.1\n",
      "parsing rdf\n",
      "/home/indujaa/magellantools/pds-geosciences-wustl-edu/mgn/mgn-v-rdrs-5-cdr-alt-rad-v1/mg_2016/42814300/rdf04293.1\n",
      "parsing rdf\n",
      "/home/indujaa/magellantools/pds-geosciences-wustl-edu/mgn/mgn-v-rdrs-5-cdr-alt-rad-v1/mg_2016/42814300/rdf04292.1\n",
      "parsing rdf\n",
      "/home/indujaa/magellantools/pds-geosciences-wustl-edu/mgn/mgn-v-rdrs-5-cdr-alt-rad-v1/mg_2016/42814300/rdf04295.1\n",
      "parsing rdf\n",
      "/home/indujaa/magellantools/pds-geosciences-wustl-edu/mgn/mgn-v-rdrs-5-cdr-alt-rad-v1/mg_2016/42814300/rdf04296.1\n",
      "parsing rdf\n",
      "/home/indujaa/magellantools/pds-geosciences-wustl-edu/mgn/mgn-v-rdrs-5-cdr-alt-rad-v1/mg_2016/42814300/rdf04291.1\n",
      "parsing rdf\n",
      "/home/indujaa/magellantools/pds-geosciences-wustl-edu/mgn/mgn-v-rdrs-5-cdr-alt-rad-v1/mg_2016/42814300/rdf04298.1\n",
      "parsing rdf\n",
      "/home/indujaa/magellantools/pds-geosciences-wustl-edu/mgn/mgn-v-rdrs-5-cdr-alt-rad-v1/mg_2016/42814300/rdf04299.1\n",
      "parsing rdf\n",
      "/home/indujaa/magellantools/pds-geosciences-wustl-edu/mgn/mgn-v-rdrs-5-cdr-alt-rad-v1/mg_2016/42814300/rdf04290.1\n",
      "parsing rdf\n",
      "/home/indujaa/magellantools/pds-geosciences-wustl-edu/mgn/mgn-v-rdrs-5-cdr-alt-rad-v1/mg_2016/42814300/rdf04297.1\n",
      "parsing rdf\n"
     ]
    }
   ],
   "source": [
    "for f in files:\n",
    "    ## get orbit number\n",
    "    fname = f.split(\"/\")[-1].split(\".\")[0]\n",
    "    orbitnum = ''.join([i for i in fname if i.isdigit()])\n",
    "    \n",
    "    ## parse rdf\n",
    "    f = str(os.path.join('/home/indujaa/magellantools', f))\n",
    "    hdr, rdf = readARCDR(f)\n",
    "    subset = np.where((rdf[\"RAD_FOOTPRINT_LATITUDE\"] >= 12) & \n",
    "                  (rdf[\"RAD_FOOTPRINT_LATITUDE\"] <= 17.5))\n",
    "    \n",
    "    for sub in subset[0]:\n",
    "        rdf_row = rdf[sub]\n",
    "        row_dict = {\"orbit\": [orbitnum], \n",
    "                    \"footprint\":[rdf_row[\"RAD_NUMBER\"]], \n",
    "                    \"lat\":[rdf_row[\"RAD_FOOTPRINT_LATITUDE\"]], \n",
    "                    \"lon\":[rdf_row[\"RAD_FOOTPRINT_LONGITUDE\"]], \n",
    "                    \"emissivity\":[rdf_row[\"SURFACE_EMISSIVITY\"]]} \n",
    "        \n",
    "        df_temp = pd.DataFrame(row_dict)\n",
    "        df = df.append(df_temp, ignore_index = True)"
   ]
  },
  {
   "cell_type": "code",
   "execution_count": 8,
   "metadata": {},
   "outputs": [
    {
     "name": "stdout",
     "output_type": "stream",
     "text": [
      "      orbit footprint        lat        lon  emissivity\n",
      "0     02500      -123  17.492537  37.963520    0.807993\n",
      "1     02500      -122  17.454449  37.965492    0.807274\n",
      "2     02500      -121  17.416384  37.967468    0.802926\n",
      "3     02500      -120  17.378317  37.969448    0.800714\n",
      "4     02500      -119  17.340227  37.971458    0.794584\n",
      "...     ...       ...        ...        ...         ...\n",
      "2813  04290        -4  14.014017  36.692379    0.869655\n",
      "2814  04290        -3  13.991526  36.693970    0.873648\n",
      "2815  04290        -2  13.969034  36.695560    0.865959\n",
      "2816  04290        -1  13.942556  36.697430    0.869742\n",
      "2817  04290         0  13.912154  36.699581    0.862200\n",
      "\n",
      "[2818 rows x 5 columns]\n"
     ]
    }
   ],
   "source": [
    "print(df)"
   ]
  },
  {
   "cell_type": "code",
   "execution_count": 9,
   "metadata": {},
   "outputs": [],
   "source": [
    "df.to_csv(\"eastEistla.txt\", index=False)"
   ]
  },
  {
   "cell_type": "code",
   "execution_count": null,
   "metadata": {},
   "outputs": [],
   "source": []
  }
 ],
 "metadata": {
  "kernelspec": {
   "display_name": "Python 3",
   "language": "python",
   "name": "python3"
  },
  "language_info": {
   "codemirror_mode": {
    "name": "ipython",
    "version": 3
   },
   "file_extension": ".py",
   "mimetype": "text/x-python",
   "name": "python",
   "nbconvert_exporter": "python",
   "pygments_lexer": "ipython3",
   "version": "3.7.4"
  }
 },
 "nbformat": 4,
 "nbformat_minor": 4
}
