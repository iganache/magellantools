{
 "cells": [
  {
   "cell_type": "code",
   "execution_count": 1,
   "metadata": {},
   "outputs": [],
   "source": [
    "from ARCDR import readARCDR\n",
    "import matplotlib.pyplot as plt\n",
    "import numpy as np\n",
    "import pandas as pd\n",
    "\n",
    "import os\n",
    "import glob\n",
    "from pathlib import Path"
   ]
  },
  {
   "cell_type": "markdown",
   "metadata": {},
   "source": [
    "Latitude ranges \n",
    "Dione Regio: -30 to -40\n",
    "Central Esitla: 10.5 to 16.5\n",
    "Eastern Eistla: 12 - 17.5"
   ]
  },
  {
   "cell_type": "code",
   "execution_count": 4,
   "metadata": {},
   "outputs": [],
   "source": [
    "files = glob.glob(\"/home/indujaa/pds-geosciences-wustl-edu/**/*.lbl\", recursive = True)\n",
    "\n",
    "df = pd.DataFrame(columns = [\"orbit\", \"footprint\", \"lat\", \"lon\", \"emissivity\"])\n",
    "# for dirpath, dirs, files in os.walk(\"pds-geosciences.wustl.edu\"): \n",
    "#     for filename in files:\n",
    "#         fname = os.path.join(dirpath,filename)\n",
    "#         print(fname)"
   ]
  },
  {
   "cell_type": "code",
   "execution_count": 5,
   "metadata": {},
   "outputs": [
    {
     "name": "stdout",
     "output_type": "stream",
     "text": [
      "/home/indujaa/pds-geosciences-wustl-edu/mgn/mgn-v-rdrs-5-cdr-alt-rad-v1/mg_2017/56815700/rdf05696.1\n",
      "parsing rdf\n",
      "/home/indujaa/pds-geosciences-wustl-edu/mgn/mgn-v-rdrs-5-cdr-alt-rad-v1/mg_2017/56815700/rdf05698.1\n",
      "parsing rdf\n",
      "/home/indujaa/pds-geosciences-wustl-edu/mgn/mgn-v-rdrs-5-cdr-alt-rad-v1/mg_2017/56815700/rdf05700.1\n",
      "parsing rdf\n",
      "/home/indujaa/pds-geosciences-wustl-edu/mgn/mgn-v-rdrs-5-cdr-alt-rad-v1/mg_2017/56815700/rdf05699.1\n",
      "parsing rdf\n",
      "/home/indujaa/pds-geosciences-wustl-edu/mgn/mgn-v-rdrs-5-cdr-alt-rad-v1/mg_2017/56815700/rdf05697.1\n",
      "parsing rdf\n",
      "/home/indujaa/pds-geosciences-wustl-edu/mgn/mgn-v-rdrs-5-cdr-alt-rad-v1/mg_2017/56815700/rdf05690.1\n",
      "parsing rdf\n",
      "/home/indujaa/pds-geosciences-wustl-edu/mgn/mgn-v-rdrs-5-cdr-alt-rad-v1/mg_2017/56815700/rdf05693.1\n",
      "parsing rdf\n",
      "/home/indujaa/pds-geosciences-wustl-edu/mgn/mgn-v-rdrs-5-cdr-alt-rad-v1/mg_2017/56815700/rdf05694.1\n",
      "parsing rdf\n",
      "/home/indujaa/pds-geosciences-wustl-edu/mgn/mgn-v-rdrs-5-cdr-alt-rad-v1/mg_2017/56815700/rdf05695.1\n",
      "parsing rdf\n",
      "/home/indujaa/pds-geosciences-wustl-edu/mgn/mgn-v-rdrs-5-cdr-alt-rad-v1/mg_2017/56815700/rdf05692.1\n",
      "parsing rdf\n",
      "/home/indujaa/pds-geosciences-wustl-edu/mgn/mgn-v-rdrs-5-cdr-alt-rad-v1/mg_2017/57015720/rdf05703.1\n",
      "parsing rdf\n",
      "/home/indujaa/pds-geosciences-wustl-edu/mgn/mgn-v-rdrs-5-cdr-alt-rad-v1/mg_2017/57015720/rdf05704.1\n",
      "parsing rdf\n",
      "/home/indujaa/pds-geosciences-wustl-edu/mgn/mgn-v-rdrs-5-cdr-alt-rad-v1/mg_2017/57015720/rdf05705.1\n",
      "parsing rdf\n",
      "/home/indujaa/pds-geosciences-wustl-edu/mgn/mgn-v-rdrs-5-cdr-alt-rad-v1/mg_2017/57015720/rdf05708.1\n",
      "parsing rdf\n",
      "/home/indujaa/pds-geosciences-wustl-edu/mgn/mgn-v-rdrs-5-cdr-alt-rad-v1/mg_2017/57015720/rdf05701.1\n",
      "parsing rdf\n",
      "/home/indujaa/pds-geosciences-wustl-edu/mgn/mgn-v-rdrs-5-cdr-alt-rad-v1/mg_2017/57015720/rdf05706.1\n",
      "parsing rdf\n",
      "/home/indujaa/pds-geosciences-wustl-edu/mgn/mgn-v-rdrs-5-cdr-alt-rad-v1/mg_2017/57015720/rdf05707.1\n",
      "parsing rdf\n",
      "/home/indujaa/pds-geosciences-wustl-edu/mgn/mgn-v-rdrs-5-cdr-alt-rad-v1/mg_2017/57015720/rdf05709.1\n",
      "parsing rdf\n"
     ]
    }
   ],
   "source": [
    "for f in files:\n",
    "    ## get orbit number\n",
    "    fname = f.split(\"/\")[-1].split(\".\")[0]\n",
    "    orbitnum = ''.join([i for i in fname if i.isdigit()])\n",
    "    \n",
    "    ## parse rdf\n",
    "#     f = str(os.path.join('/home/indujaa/magellantools', f))\n",
    "    hdr, rdf = readARCDR(f)\n",
    "    subset = np.where((rdf[\"RAD_FOOTPRINT_LATITUDE\"] >= -40) & \n",
    "                  (rdf[\"RAD_FOOTPRINT_LATITUDE\"] <= -30))\n",
    "    \n",
    "    for sub in subset[0]:\n",
    "        rdf_row = rdf[sub]\n",
    "        row_dict = {\"orbit\": [orbitnum], \n",
    "                    \"footprint\":[rdf_row[\"RAD_NUMBER\"]], \n",
    "                    \"lat\":[rdf_row[\"RAD_FOOTPRINT_LATITUDE\"]], \n",
    "                    \"lon\":[rdf_row[\"RAD_FOOTPRINT_LONGITUDE\"]], \n",
    "                    \"emissivity\":[rdf_row[\"SURFACE_EMISSIVITY\"]]} \n",
    "        \n",
    "        df_temp = pd.DataFrame(row_dict)\n",
    "        df = df.append(df_temp, ignore_index = True)"
   ]
  },
  {
   "cell_type": "code",
   "execution_count": null,
   "metadata": {},
   "outputs": [],
   "source": []
  }
 ],
 "metadata": {
  "kernelspec": {
   "display_name": "Python 3",
   "language": "python",
   "name": "python3"
  },
  "language_info": {
   "codemirror_mode": {
    "name": "ipython",
    "version": 3
   },
   "file_extension": ".py",
   "mimetype": "text/x-python",
   "name": "python",
   "nbconvert_exporter": "python",
   "pygments_lexer": "ipython3",
   "version": "3.7.4"
  }
 },
 "nbformat": 4,
 "nbformat_minor": 4
}
