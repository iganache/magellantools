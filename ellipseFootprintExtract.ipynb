{
 "cells": [
  {
   "cell_type": "code",
   "execution_count": 25,
   "id": "bfd837b4-16bb-4273-b530-558f916bf86a",
   "metadata": {},
   "outputs": [],
   "source": [
    "import numpy as np\n",
    "import pandas as pd\n",
    "import pyproj\n",
    "import matplotlib.pyplot as plt\n",
    "import rasterio as rio"
   ]
  },
  {
   "cell_type": "code",
   "execution_count": 33,
   "id": "1753727d-4774-4690-a90c-4bdb9b247e1a",
   "metadata": {},
   "outputs": [],
   "source": [
    "def reproject(df, proj_crs):\n",
    "    lon = df[\"lon\"].to_numpy()\n",
    "    lat = df[\"lat\"].to_numpy()\n",
    "    \n",
    "    #geo_crs = pyproj.CRS.from_proj4(\"+proj=longlat +a=6051800 +b=6051800 +no_defs \")\n",
    "    #proj_crs = pyproj.CRS.from_proj4(\"+proj=eqc +lat_ts=0 +lat_0=0 +lon_0=0 +x_0=0 +y_0=0 +a=6051800 +b=6051800 +units=m +no_defs\")\n",
    "    geo_crs = 'GEOGCS[\"Mars 2000\",DATUM[\"D_Mars_2000\",SPHEROID[\"Mars_2000_IAU_IAG\",3396190.0,169.89444722361179]],PRIMEM[\"Greenwich\",0],UNIT[\"Degree\",0.017453292519943295]]'\n",
    "    \n",
    "    proj = pyproj.Transformer.from_crs(geo_crs, proj_crs)\n",
    "        \n",
    "    df[\"x\"], df[\"y\"] = proj.transform(lon, lat)\n",
    "    \n",
    "    dx = np.gradient(df[\"x\"])\n",
    "    dy = np.gradient(df[\"y\"])\n",
    "\n",
    "    theta = np.arctan(dy/dx)\n",
    "    df[\"orbit_inc\"] = np.rad2deg(theta)\n",
    "    \n",
    "    return df"
   ]
  },
  {
   "cell_type": "code",
   "execution_count": 34,
   "id": "5797ce3d-7bba-4243-8126-8c7655e38d99",
   "metadata": {},
   "outputs": [],
   "source": [
    "df = pd.read_csv(\"./ARCDR_alt_10000.csv\")"
   ]
  },
  {
   "cell_type": "code",
   "execution_count": 40,
   "id": "3dc2a749-b1d0-4075-baca-c242146b279b",
   "metadata": {},
   "outputs": [
    {
     "name": "stdout",
     "output_type": "stream",
     "text": [
      "      Unnamed: 0.1  Unnamed: 0   flag  flag_ambig  flag_ambig2  flag_bad  \\\n",
      "0                0           0  32795         0.0          0.0       0.0   \n",
      "1                1           1  32795         0.0          0.0       0.0   \n",
      "2                2           2  32795         0.0          0.0       0.0   \n",
      "3                3           3  32795         0.0          0.0       0.0   \n",
      "4                4           4  32795         0.0          0.0       0.0   \n",
      "...            ...         ...    ...         ...          ...       ...   \n",
      "9995          9995         495  49179         0.0          0.0       0.0   \n",
      "9996          9996         496  49179         0.0          0.0       0.0   \n",
      "9997          9997         497  49179         0.0          0.0       0.0   \n",
      "9998          9998         498  49179         0.0          0.0       0.0   \n",
      "9999          9999         499  49179         0.0          0.0       0.0   \n",
      "\n",
      "      flag_badalta  flag_cbad  flag_cmark  flag_ephc  ...  orbit      pradius  \\\n",
      "0              0.0        0.0         0.0        1.0  ...   1318  6050.788574   \n",
      "1              0.0        0.0         0.0        1.0  ...   1318  6051.587891   \n",
      "2              0.0        0.0         0.0        1.0  ...   1318  6051.378906   \n",
      "3              0.0        0.0         0.0        1.0  ...   1318  6051.269531   \n",
      "4              0.0        0.0         0.0        1.0  ...   1318  6051.232422   \n",
      "...            ...        ...         ...        ...  ...    ...          ...   \n",
      "9995           0.0        0.0         0.0        1.0  ...   4497  6054.250000   \n",
      "9996           0.0        0.0         0.0        1.0  ...   4497  6054.254883   \n",
      "9997           0.0        0.0         0.0        1.0  ...   4497  6054.202637   \n",
      "9998           0.0        0.0         0.0        1.0  ...   4497  6054.175781   \n",
      "9999           0.0        0.0         0.0        1.0  ...   4497  6054.020020   \n",
      "\n",
      "           ref  ref_corr  rms_slope      xsize      ysize             x  \\\n",
      "0     0.215152       0.0   3.865681  15.983581  27.380081 -3.035534e+06   \n",
      "1     0.336293       0.0   5.233257  15.909305  27.340458 -3.007030e+06   \n",
      "2     0.199818       0.0   3.053269  15.835669  27.300991 -2.979452e+06   \n",
      "3     0.168030       0.0   1.956208  15.762662  27.261683 -2.952760e+06   \n",
      "4     0.183947       0.0   1.813720  15.690279  27.222530 -2.926912e+06   \n",
      "...        ...       ...        ...        ...        ...           ...   \n",
      "9995  0.155553       0.0   4.013246   8.011170  12.066686 -6.036275e+06   \n",
      "9996  0.118341       0.0   2.253624   8.022111  12.074207 -6.035922e+06   \n",
      "9997  0.134127       0.0   3.707252   8.033160  12.081797 -6.035570e+06   \n",
      "9998  0.167654       0.0   6.259933   8.044319  12.089456 -6.035216e+06   \n",
      "9999  0.155212       0.0   6.168500   8.055588  12.097182 -6.034862e+06   \n",
      "\n",
      "                 y  orbit_inc  \n",
      "0     4.803136e+06 -15.153080  \n",
      "1     4.795417e+06 -15.391305  \n",
      "2     4.787698e+06 -15.877969  \n",
      "3     4.779980e+06 -16.368954  \n",
      "4     4.772266e+06 -16.863528  \n",
      "...            ...        ...  \n",
      "9995  7.355063e+04 -85.505567  \n",
      "9996  6.906604e+04 -85.505925  \n",
      "9997  6.457531e+04 -85.506346  \n",
      "9998  6.007836e+04 -85.503965  \n",
      "9999  5.557516e+04 -85.504220  \n",
      "\n",
      "[10000 rows x 36 columns]\n"
     ]
    },
    {
     "name": "stderr",
     "output_type": "stream",
     "text": [
      "/tmp/ipykernel_46584/1418191092.py:16: RuntimeWarning: invalid value encountered in divide\n",
      "  theta = np.arctan(dy/dx)\n"
     ]
    }
   ],
   "source": [
    "dem_path = \"/home/mchristo/proj/simc/dem/MOLA_SHARAD_128ppd_radius_mthellasmask.tif\"\n",
    "dem = rio.open(dem_path, mode=\"r\")\n",
    "dfr = reproject(df, dem.crs)\n",
    "dem.close()\n",
    "print(dfr)"
   ]
  },
  {
   "cell_type": "code",
   "execution_count": 137,
   "id": "4b396b2e-20f2-4652-9271-8a6b0e86afdc",
   "metadata": {},
   "outputs": [],
   "source": [
    "def crop_footprints(df, raster):\n",
    "    df[\"DN_mean\"] = np.zeros((len(df))).astype(np.float32)\n",
    "    df[\"DN_npix\"] = np.zeros((len(df)))\n",
    "    for i in range(300,len(df)):\n",
    "        rec = df.iloc[i]\n",
    "        x0 = rec[\"x\"]\n",
    "        y0 = rec[\"y\"]\n",
    "        a = rec[\"ysize\"]*1000/2\n",
    "        b = rec[\"xsize\"]*1000/2\n",
    "                \n",
    "        ymin = y0 - 2*a\n",
    "        ymax = y0 +2*a\n",
    "        xmin = x0 - 2*a\n",
    "        xmax = x0 + 2*a\n",
    "                                \n",
    "        A = np.deg2rad(90.0+rec[\"orbit_inc\"])\n",
    "        inds = rio.open(raster, mode=\"r\")\n",
    "        win=rio.windows.from_bounds(xmin, ymin, xmax, ymax, inds.transform)\n",
    "        img = inds.read(1, window=win).astype(np.float32)\n",
    "        inds.close()\n",
    "\n",
    "        img[img>255] = np.nan\n",
    "        img[img<0] = np.nan\n",
    "        \n",
    "        cols, rows = np.meshgrid(np.arange(win.col_off, win.col_off+win.width), np.arange(win.row_off, win.row_off+win.height))\n",
    "        xs, ys = rio.transform.xy(inds.transform, rows, cols)\n",
    "        ellipse = (((xs-x0)*np.cos(A) + (ys-y0)*np.sin(A))**2 / a**2) + (((xs-x0)*np.sin(A) - (ys-y0)*np.cos(A))**2 / b**2)\n",
    "\n",
    "        #plt.imshow(img, cmap=\"Greys\")\n",
    "        #plt.colorbar()\n",
    "        #plt.contour(ellipse, levels=[1], colors=\"r\")\n",
    "        \n",
    "        in_ellipse = img[ellipse<=1.0]\n",
    "        mean = np.nanmean(in_ellipse)\n",
    "        num_pix = np.count_nonzero(~np.isnan(img))\n",
    "        print(np.count_nonzero(ellipse<=1.0))\n",
    "        rec[\"DN_mean\"] = mean\n",
    "        rec[\"DN_npix\"] = num_pix\n",
    "        break\n",
    "        \n",
    "    return df"
   ]
  },
  {
   "cell_type": "code",
   "execution_count": null,
   "id": "bf855aa4-db4e-4f47-a6b6-2149607f85ff",
   "metadata": {},
   "outputs": [],
   "source": []
  },
  {
   "cell_type": "code",
   "execution_count": 138,
   "id": "c3e79f8c-d5c8-4ae4-bb53-286b1a02a996",
   "metadata": {},
   "outputs": [
    {
     "name": "stdout",
     "output_type": "stream",
     "text": [
      "53.60741424560547\n"
     ]
    },
    {
     "ename": "IndexError",
     "evalue": "boolean index did not match indexed array along dimension 0; dimension is 85 but corresponding boolean dimension is 86",
     "output_type": "error",
     "traceback": [
      "\u001b[0;31m---------------------------------------------------------------------------\u001b[0m",
      "\u001b[0;31mIndexError\u001b[0m                                Traceback (most recent call last)",
      "Cell \u001b[0;32mIn [138], line 1\u001b[0m\n\u001b[0;32m----> 1\u001b[0m \u001b[43mcrop_footprints\u001b[49m\u001b[43m(\u001b[49m\u001b[43mdfr\u001b[49m\u001b[43m,\u001b[49m\u001b[43m \u001b[49m\u001b[43mdem_path\u001b[49m\u001b[43m)\u001b[49m\n",
      "Cell \u001b[0;32mIn [137], line 32\u001b[0m, in \u001b[0;36mcrop_footprints\u001b[0;34m(df, raster)\u001b[0m\n\u001b[1;32m     30\u001b[0m plt\u001b[38;5;241m.\u001b[39mcolorbar()\n\u001b[1;32m     31\u001b[0m plt\u001b[38;5;241m.\u001b[39mcontour(ellipse, levels\u001b[38;5;241m=\u001b[39m[\u001b[38;5;241m1\u001b[39m], colors\u001b[38;5;241m=\u001b[39m\u001b[38;5;124m\"\u001b[39m\u001b[38;5;124mr\u001b[39m\u001b[38;5;124m\"\u001b[39m)\n\u001b[0;32m---> 32\u001b[0m in_ellipse \u001b[38;5;241m=\u001b[39m \u001b[43mimg\u001b[49m\u001b[43m[\u001b[49m\u001b[43mellipse\u001b[49m\u001b[38;5;241;43m<\u001b[39;49m\u001b[38;5;241;43m=\u001b[39;49m\u001b[38;5;241;43m1.0\u001b[39;49m\u001b[43m]\u001b[49m\n\u001b[1;32m     33\u001b[0m mean \u001b[38;5;241m=\u001b[39m np\u001b[38;5;241m.\u001b[39mnanmean(in_ellipse)\n\u001b[1;32m     34\u001b[0m num_pix \u001b[38;5;241m=\u001b[39m np\u001b[38;5;241m.\u001b[39mcount_nonzero(\u001b[38;5;241m~\u001b[39mnp\u001b[38;5;241m.\u001b[39misnan(img))\n",
      "\u001b[0;31mIndexError\u001b[0m: boolean index did not match indexed array along dimension 0; dimension is 85 but corresponding boolean dimension is 86"
     ]
    },
    {
     "data": {
      "image/png": "[encoded data removed]",
      "text/plain": [
       "<Figure size 640x480 with 2 Axes>"
      ]
     },
     "metadata": {},
     "output_type": "display_data"
    }
   ],
   "source": [
    "crop_footprints(dfr, dem_path)"
   ]
  },
  {
   "cell_type": "code",
   "execution_count": null,
   "id": "75d94ef8-958a-462d-8ba3-9128ccea7717",
   "metadata": {},
   "outputs": [],
   "source": []
  },
  {
   "cell_type": "code",
   "execution_count": null,
   "id": "5ba8b62b-d8e3-43a6-a870-bbad44aa5a3b",
   "metadata": {},
   "outputs": [],
   "source": []
  }
 ],
 "metadata": {
  "kernelspec": {
   "display_name": "Python 3 (ipykernel)",
   "language": "python",
   "name": "python3"
  },
  "language_info": {
   "codemirror_mode": {
    "name": "ipython",
    "version": 3
   },
   "file_extension": ".py",
   "mimetype": "text/x-python",
   "name": "python",
   "nbconvert_exporter": "python",
   "pygments_lexer": "ipython3",
   "version": "3.9.13"
  }
 },
 "nbformat": 4,
 "nbformat_minor": 5
}
